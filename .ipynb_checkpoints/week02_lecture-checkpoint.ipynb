{
 "cells": [
  {
   "cell_type": "markdown",
   "metadata": {
    "slideshow": {
     "slide_type": "slide"
    }
   },
   "source": [
    "# Week 2 lecture - Review: Python basics"
   ]
  },
  {
   "cell_type": "markdown",
   "metadata": {
    "slideshow": {
     "slide_type": "slide"
    }
   },
   "source": [
    "## Variable assignment\n",
    "\n",
    "What will be the output?"
   ]
  },
  {
   "cell_type": "code",
   "execution_count": 12,
   "metadata": {},
   "outputs": [
    {
     "name": "stdout",
     "output_type": "stream",
     "text": [
      "10 8\n",
      "10,8\n",
      "10, 8\n"
     ]
    }
   ],
   "source": [
    "# Defining our variables\n",
    "a = 4*2 #8\n",
    "b = a #8\n",
    "a += 2 #10   alternatively a = a + 2\n",
    "\n",
    "print(a, b)\n",
    "\n",
    "# comma in between\n",
    "print(a,\",\",b,sep=\"\")\n",
    "print(f\"{a}, {b}\") # String formatting"
   ]
  },
  {
   "cell_type": "markdown",
   "metadata": {
    "slideshow": {
     "slide_type": "slide"
    }
   },
   "source": [
    "## Strings\n",
    "\n",
    "What will be the output?"
   ]
  },
  {
   "cell_type": "code",
   "execution_count": 21,
   "metadata": {},
   "outputs": [
    {
     "name": "stdout",
     "output_type": "stream",
     "text": [
      "Tommy\n",
      "True\n",
      "7\n"
     ]
    },
    {
     "data": {
      "text/plain": [
       "7"
      ]
     },
     "execution_count": 21,
     "metadata": {},
     "output_type": "execute_result"
    }
   ],
   "source": [
    "name_1 = 'Maariya'\n",
    "name_2 = 'Tommy'\n",
    "name_3 = 'Jia'\n",
    "\n",
    "print(max(name_1, name_2, name_3)) # Tommy\n",
    "\n",
    "print(name_1 < name_2) #True. M is before T\n",
    "\n",
    "print(max(len(name_1),len(name_2),len(name_3))) # Length of the longest name\n",
    "\n",
    "# Using list comprehension\n",
    "names = (name_1,name_2,name_3)\n",
    "max(len(name) for name in names) # we haven't done for loops yet though!"
   ]
  },
  {
   "cell_type": "markdown",
   "metadata": {
    "slideshow": {
     "slide_type": "slide"
    }
   },
   "source": [
    "## Formatted strings (f-strings)\n",
    "\n",
    "[Documentation on f-strings](https://docs.python.org/3/tutorial/inputoutput.html#formatted-string-literals)\n",
    "\n",
    "`Maariya's flatmates are Tommy and Jia.`\n",
    "\n",
    "`Jia's room is the largest.`"
   ]
  },
  {
   "cell_type": "code",
   "execution_count": 38,
   "metadata": {},
   "outputs": [
    {
     "name": "stdout",
     "output_type": "stream",
     "text": [
      "Maariya's flatmates are Tommy and Jia.\n",
      " Jia's room is the largest.\n",
      "Maariya's flatmates are Tommy and Jia.\n",
      " Jia's room is the largest. Jia's room is the largest.\n",
      "Maariya's flatmates are Tommy and Jia. Jia's room is the largest\n"
     ]
    }
   ],
   "source": [
    "sentence1 = \"Maariya's flatmates are Tommy and Jia.\\n\" #\\n starts a new line\n",
    "sentence1 += ' Jia\\'s room is the largest.'\n",
    "sentence2 = '''Jia's room is the largest.'''\n",
    "sentence3 = 'Scott\\'s not sure whether to take this module.' # Use \\ to escape a character.\n",
    "print(sentence1)\n",
    "print(sentence1,sentence2)\n",
    "\n",
    "print(f\"{name_1}'s flatmates are {name_2} and {name_3}. {name_3}'s room is the largest\")"
   ]
  },
  {
   "cell_type": "markdown",
   "metadata": {},
   "source": [
    "`Charlotte ==> Room 1`\n",
    "\n",
    "`Robb      ==> Room 2`\n",
    "\n",
    "`Jia       ==> Room 3`"
   ]
  },
  {
   "cell_type": "code",
   "execution_count": 50,
   "metadata": {},
   "outputs": [
    {
     "name": "stdout",
     "output_type": "stream",
     "text": [
      "Maariya ==> Room 1\n",
      "      Maariya        ==> Room 1\n",
      "Maariya                                                                                              ==> Room 1\n",
      "                                                                                             Maariya ==> Room 1\n"
     ]
    }
   ],
   "source": [
    "print(f'{name_1} ==> Room 1')\n",
    "print(f'{name_1:^20} ==> Room 1')\n",
    "print(f'{name_1:<100} ==> Room 1')\n",
    "print(f'{name_1:>100} ==> Room 1')"
   ]
  },
  {
   "cell_type": "markdown",
   "metadata": {},
   "source": [
    "**END**"
   ]
  }
 ],
 "metadata": {
  "kernelspec": {
   "display_name": "Python 3 (ipykernel)",
   "language": "python",
   "name": "python3"
  },
  "language_info": {
   "codemirror_mode": {
    "name": "ipython",
    "version": 3
   },
   "file_extension": ".py",
   "mimetype": "text/x-python",
   "name": "python",
   "nbconvert_exporter": "python",
   "pygments_lexer": "ipython3",
   "version": "3.9.7"
  },
  "vscode": {
   "interpreter": {
    "hash": "40e4495e561ee7e4d11543530affdbdd77ea8835acb26b67feaf229f3817bf06"
   }
  }
 },
 "nbformat": 4,
 "nbformat_minor": 4
}
